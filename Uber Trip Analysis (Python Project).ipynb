{
 "cells": [
  {
   "cell_type": "markdown",
   "id": "d14e4218",
   "metadata": {},
   "source": [
    "# UBER TRIP ANALYSIS"
   ]
  },
  {
   "cell_type": "code",
   "execution_count": 1,
   "id": "7be51e67",
   "metadata": {},
   "outputs": [],
   "source": [
    "#importing libraries required\n",
    "import pandas as pd\n",
    "import numpy as np\n",
    "import matplotlib.pyplot as plt\n",
    "%matplotlib inline"
   ]
  },
  {
   "cell_type": "code",
   "execution_count": 2,
   "id": "6ef061e8",
   "metadata": {},
   "outputs": [
    {
     "data": {
      "text/html": [
       "<div>\n",
       "<style scoped>\n",
       "    .dataframe tbody tr th:only-of-type {\n",
       "        vertical-align: middle;\n",
       "    }\n",
       "\n",
       "    .dataframe tbody tr th {\n",
       "        vertical-align: top;\n",
       "    }\n",
       "\n",
       "    .dataframe thead th {\n",
       "        text-align: right;\n",
       "    }\n",
       "</style>\n",
       "<table border=\"1\" class=\"dataframe\">\n",
       "  <thead>\n",
       "    <tr style=\"text-align: right;\">\n",
       "      <th></th>\n",
       "      <th>Date/Time</th>\n",
       "      <th>Lat</th>\n",
       "      <th>Lon</th>\n",
       "      <th>Base</th>\n",
       "    </tr>\n",
       "  </thead>\n",
       "  <tbody>\n",
       "    <tr>\n",
       "      <th>0</th>\n",
       "      <td>6/1/2014 0:00:00</td>\n",
       "      <td>40.7293</td>\n",
       "      <td>-73.9920</td>\n",
       "      <td>B02512</td>\n",
       "    </tr>\n",
       "    <tr>\n",
       "      <th>1</th>\n",
       "      <td>6/1/2014 0:01:00</td>\n",
       "      <td>40.7131</td>\n",
       "      <td>-74.0097</td>\n",
       "      <td>B02512</td>\n",
       "    </tr>\n",
       "    <tr>\n",
       "      <th>2</th>\n",
       "      <td>6/1/2014 0:04:00</td>\n",
       "      <td>40.3461</td>\n",
       "      <td>-74.6610</td>\n",
       "      <td>B02512</td>\n",
       "    </tr>\n",
       "    <tr>\n",
       "      <th>3</th>\n",
       "      <td>6/1/2014 0:04:00</td>\n",
       "      <td>40.7555</td>\n",
       "      <td>-73.9833</td>\n",
       "      <td>B02512</td>\n",
       "    </tr>\n",
       "    <tr>\n",
       "      <th>4</th>\n",
       "      <td>6/1/2014 0:07:00</td>\n",
       "      <td>40.6880</td>\n",
       "      <td>-74.1831</td>\n",
       "      <td>B02512</td>\n",
       "    </tr>\n",
       "  </tbody>\n",
       "</table>\n",
       "</div>"
      ],
      "text/plain": [
       "          Date/Time      Lat      Lon    Base\n",
       "0  6/1/2014 0:00:00  40.7293 -73.9920  B02512\n",
       "1  6/1/2014 0:01:00  40.7131 -74.0097  B02512\n",
       "2  6/1/2014 0:04:00  40.3461 -74.6610  B02512\n",
       "3  6/1/2014 0:04:00  40.7555 -73.9833  B02512\n",
       "4  6/1/2014 0:07:00  40.6880 -74.1831  B02512"
      ]
     },
     "execution_count": 2,
     "metadata": {},
     "output_type": "execute_result"
    }
   ],
   "source": [
    "#reading the data\n",
    "df = pd.read_csv(r\"C:\\Users\\SAI KIRAN\\Desktop\\uber-raw-data-jun14.csv\")\n",
    "df.head()"
   ]
  },
  {
   "cell_type": "code",
   "execution_count": 3,
   "id": "b460775d",
   "metadata": {},
   "outputs": [
    {
     "name": "stdout",
     "output_type": "stream",
     "text": [
      "<class 'pandas.core.frame.DataFrame'>\n",
      "RangeIndex: 663844 entries, 0 to 663843\n",
      "Data columns (total 4 columns):\n",
      " #   Column     Non-Null Count   Dtype  \n",
      "---  ------     --------------   -----  \n",
      " 0   Date/Time  663844 non-null  object \n",
      " 1   Lat        663844 non-null  float64\n",
      " 2   Lon        663844 non-null  float64\n",
      " 3   Base       663844 non-null  object \n",
      "dtypes: float64(2), object(2)\n",
      "memory usage: 20.3+ MB\n"
     ]
    }
   ],
   "source": [
    "#inspecting the data\n",
    "df.info()"
   ]
  },
  {
   "cell_type": "code",
   "execution_count": 4,
   "id": "493923e4",
   "metadata": {},
   "outputs": [
    {
     "data": {
      "text/plain": [
       "Date/Time    0\n",
       "Lat          0\n",
       "Lon          0\n",
       "Base         0\n",
       "dtype: int64"
      ]
     },
     "execution_count": 4,
     "metadata": {},
     "output_type": "execute_result"
    }
   ],
   "source": [
    "#checking for null values\n",
    "df.isnull().sum()"
   ]
  },
  {
   "cell_type": "code",
   "execution_count": 5,
   "id": "df4196fe",
   "metadata": {},
   "outputs": [],
   "source": [
    "#changing datetime column from string to datetime format\n",
    "df['Date/Time'] = pd.to_datetime(df['Date/Time'])"
   ]
  },
  {
   "cell_type": "code",
   "execution_count": 6,
   "id": "14bcd4bf",
   "metadata": {},
   "outputs": [
    {
     "name": "stdout",
     "output_type": "stream",
     "text": [
      "<class 'pandas.core.frame.DataFrame'>\n",
      "RangeIndex: 663844 entries, 0 to 663843\n",
      "Data columns (total 4 columns):\n",
      " #   Column     Non-Null Count   Dtype         \n",
      "---  ------     --------------   -----         \n",
      " 0   Date/Time  663844 non-null  datetime64[ns]\n",
      " 1   Lat        663844 non-null  float64       \n",
      " 2   Lon        663844 non-null  float64       \n",
      " 3   Base       663844 non-null  object        \n",
      "dtypes: datetime64[ns](1), float64(2), object(1)\n",
      "memory usage: 20.3+ MB\n"
     ]
    }
   ],
   "source": [
    "#verifying it\n",
    "df.info()"
   ]
  },
  {
   "cell_type": "markdown",
   "id": "d65900a2",
   "metadata": {},
   "source": [
    "# Insights Gained\n",
    "\n",
    "    1.Highest Number of Uber Pickups by the hour, month\n",
    "    2.Highest number of pickups based on base\n",
    "    3.TLC with the highest number of pickups\n",
    "    4.graph with average pickups over the week days\n",
    "    5.heatmap of hours/ weekdays and frequency of pickups"
   ]
  },
  {
   "cell_type": "markdown",
   "id": "3316fa3c",
   "metadata": {},
   "source": [
    "## dividing data into bins of datetime"
   ]
  },
  {
   "cell_type": "code",
   "execution_count": 8,
   "id": "79af1892",
   "metadata": {},
   "outputs": [
    {
     "data": {
      "text/plain": [
       "0        2014-06-01 00:00:00\n",
       "1        2014-06-01 00:00:00\n",
       "2        2014-06-01 00:00:00\n",
       "3        2014-06-01 00:00:00\n",
       "4        2014-06-01 00:00:00\n",
       "                 ...        \n",
       "663839   2014-06-30 22:30:00\n",
       "663840   2014-06-30 23:00:00\n",
       "663841   2014-06-30 23:00:00\n",
       "663842   2014-06-30 23:15:00\n",
       "663843   2014-06-30 23:30:00\n",
       "Name: binned hour, Length: 663844, dtype: datetime64[ns]"
      ]
     },
     "execution_count": 8,
     "metadata": {},
     "output_type": "execute_result"
    }
   ],
   "source": [
    "#using dt.floor() for creating bins of interval 15mins and create a new column\n",
    "df['binned hour']= df['Date/Time'].dt.floor('15min')\n",
    "df['binned hour']"
   ]
  },
  {
   "cell_type": "markdown",
   "id": "8eeee6c7",
   "metadata": {},
   "source": [
    "## creating seperate columns for date and time"
   ]
  },
  {
   "cell_type": "code",
   "execution_count": 11,
   "id": "0b52aac0",
   "metadata": {},
   "outputs": [],
   "source": [
    "df['date'] = df['binned hour'].dt.date\n",
    "df['time'] = df['binned hour'].dt.time"
   ]
  },
  {
   "cell_type": "code",
   "execution_count": 12,
   "id": "528fdde9",
   "metadata": {},
   "outputs": [
    {
     "data": {
      "text/html": [
       "<div>\n",
       "<style scoped>\n",
       "    .dataframe tbody tr th:only-of-type {\n",
       "        vertical-align: middle;\n",
       "    }\n",
       "\n",
       "    .dataframe tbody tr th {\n",
       "        vertical-align: top;\n",
       "    }\n",
       "\n",
       "    .dataframe thead th {\n",
       "        text-align: right;\n",
       "    }\n",
       "</style>\n",
       "<table border=\"1\" class=\"dataframe\">\n",
       "  <thead>\n",
       "    <tr style=\"text-align: right;\">\n",
       "      <th></th>\n",
       "      <th>Date/Time</th>\n",
       "      <th>Lat</th>\n",
       "      <th>Lon</th>\n",
       "      <th>Base</th>\n",
       "      <th>binned hour</th>\n",
       "      <th>date</th>\n",
       "      <th>time</th>\n",
       "    </tr>\n",
       "  </thead>\n",
       "  <tbody>\n",
       "    <tr>\n",
       "      <th>0</th>\n",
       "      <td>2014-06-01 00:00:00</td>\n",
       "      <td>40.7293</td>\n",
       "      <td>-73.9920</td>\n",
       "      <td>B02512</td>\n",
       "      <td>2014-06-01</td>\n",
       "      <td>2014-06-01</td>\n",
       "      <td>00:00:00</td>\n",
       "    </tr>\n",
       "    <tr>\n",
       "      <th>1</th>\n",
       "      <td>2014-06-01 00:01:00</td>\n",
       "      <td>40.7131</td>\n",
       "      <td>-74.0097</td>\n",
       "      <td>B02512</td>\n",
       "      <td>2014-06-01</td>\n",
       "      <td>2014-06-01</td>\n",
       "      <td>00:00:00</td>\n",
       "    </tr>\n",
       "    <tr>\n",
       "      <th>2</th>\n",
       "      <td>2014-06-01 00:04:00</td>\n",
       "      <td>40.3461</td>\n",
       "      <td>-74.6610</td>\n",
       "      <td>B02512</td>\n",
       "      <td>2014-06-01</td>\n",
       "      <td>2014-06-01</td>\n",
       "      <td>00:00:00</td>\n",
       "    </tr>\n",
       "    <tr>\n",
       "      <th>3</th>\n",
       "      <td>2014-06-01 00:04:00</td>\n",
       "      <td>40.7555</td>\n",
       "      <td>-73.9833</td>\n",
       "      <td>B02512</td>\n",
       "      <td>2014-06-01</td>\n",
       "      <td>2014-06-01</td>\n",
       "      <td>00:00:00</td>\n",
       "    </tr>\n",
       "    <tr>\n",
       "      <th>4</th>\n",
       "      <td>2014-06-01 00:07:00</td>\n",
       "      <td>40.6880</td>\n",
       "      <td>-74.1831</td>\n",
       "      <td>B02512</td>\n",
       "      <td>2014-06-01</td>\n",
       "      <td>2014-06-01</td>\n",
       "      <td>00:00:00</td>\n",
       "    </tr>\n",
       "  </tbody>\n",
       "</table>\n",
       "</div>"
      ],
      "text/plain": [
       "            Date/Time      Lat      Lon    Base binned hour        date  \\\n",
       "0 2014-06-01 00:00:00  40.7293 -73.9920  B02512  2014-06-01  2014-06-01   \n",
       "1 2014-06-01 00:01:00  40.7131 -74.0097  B02512  2014-06-01  2014-06-01   \n",
       "2 2014-06-01 00:04:00  40.3461 -74.6610  B02512  2014-06-01  2014-06-01   \n",
       "3 2014-06-01 00:04:00  40.7555 -73.9833  B02512  2014-06-01  2014-06-01   \n",
       "4 2014-06-01 00:07:00  40.6880 -74.1831  B02512  2014-06-01  2014-06-01   \n",
       "\n",
       "       time  \n",
       "0  00:00:00  \n",
       "1  00:00:00  \n",
       "2  00:00:00  \n",
       "3  00:00:00  \n",
       "4  00:00:00  "
      ]
     },
     "execution_count": 12,
     "metadata": {},
     "output_type": "execute_result"
    }
   ],
   "source": [
    "df.head()"
   ]
  },
  {
   "cell_type": "code",
   "execution_count": 13,
   "id": "6ba66bf9",
   "metadata": {},
   "outputs": [
    {
     "name": "stdout",
     "output_type": "stream",
     "text": [
      "<class 'pandas.core.frame.DataFrame'>\n",
      "RangeIndex: 663844 entries, 0 to 663843\n",
      "Data columns (total 7 columns):\n",
      " #   Column       Non-Null Count   Dtype         \n",
      "---  ------       --------------   -----         \n",
      " 0   Date/Time    663844 non-null  datetime64[ns]\n",
      " 1   Lat          663844 non-null  float64       \n",
      " 2   Lon          663844 non-null  float64       \n",
      " 3   Base         663844 non-null  object        \n",
      " 4   binned hour  663844 non-null  datetime64[ns]\n",
      " 5   date         663844 non-null  object        \n",
      " 6   time         663844 non-null  object        \n",
      "dtypes: datetime64[ns](2), float64(2), object(3)\n",
      "memory usage: 35.5+ MB\n"
     ]
    }
   ],
   "source": [
    "df.info()"
   ]
  },
  {
   "cell_type": "markdown",
   "id": "57ec6a90",
   "metadata": {},
   "source": [
    "## extracting Weekday from date column"
   ]
  },
  {
   "cell_type": "code",
   "execution_count": 14,
   "id": "9eddf90f",
   "metadata": {},
   "outputs": [
    {
     "data": {
      "text/html": [
       "<div>\n",
       "<style scoped>\n",
       "    .dataframe tbody tr th:only-of-type {\n",
       "        vertical-align: middle;\n",
       "    }\n",
       "\n",
       "    .dataframe tbody tr th {\n",
       "        vertical-align: top;\n",
       "    }\n",
       "\n",
       "    .dataframe thead th {\n",
       "        text-align: right;\n",
       "    }\n",
       "</style>\n",
       "<table border=\"1\" class=\"dataframe\">\n",
       "  <thead>\n",
       "    <tr style=\"text-align: right;\">\n",
       "      <th></th>\n",
       "      <th>Date/Time</th>\n",
       "      <th>Lat</th>\n",
       "      <th>Lon</th>\n",
       "      <th>Base</th>\n",
       "      <th>binned hour</th>\n",
       "      <th>date</th>\n",
       "      <th>time</th>\n",
       "      <th>Weekday</th>\n",
       "    </tr>\n",
       "  </thead>\n",
       "  <tbody>\n",
       "    <tr>\n",
       "      <th>0</th>\n",
       "      <td>2014-06-01 00:00:00</td>\n",
       "      <td>40.7293</td>\n",
       "      <td>-73.9920</td>\n",
       "      <td>B02512</td>\n",
       "      <td>2014-06-01</td>\n",
       "      <td>2014-06-01</td>\n",
       "      <td>00:00:00</td>\n",
       "      <td>Sunday</td>\n",
       "    </tr>\n",
       "    <tr>\n",
       "      <th>1</th>\n",
       "      <td>2014-06-01 00:01:00</td>\n",
       "      <td>40.7131</td>\n",
       "      <td>-74.0097</td>\n",
       "      <td>B02512</td>\n",
       "      <td>2014-06-01</td>\n",
       "      <td>2014-06-01</td>\n",
       "      <td>00:00:00</td>\n",
       "      <td>Sunday</td>\n",
       "    </tr>\n",
       "    <tr>\n",
       "      <th>2</th>\n",
       "      <td>2014-06-01 00:04:00</td>\n",
       "      <td>40.3461</td>\n",
       "      <td>-74.6610</td>\n",
       "      <td>B02512</td>\n",
       "      <td>2014-06-01</td>\n",
       "      <td>2014-06-01</td>\n",
       "      <td>00:00:00</td>\n",
       "      <td>Sunday</td>\n",
       "    </tr>\n",
       "    <tr>\n",
       "      <th>3</th>\n",
       "      <td>2014-06-01 00:04:00</td>\n",
       "      <td>40.7555</td>\n",
       "      <td>-73.9833</td>\n",
       "      <td>B02512</td>\n",
       "      <td>2014-06-01</td>\n",
       "      <td>2014-06-01</td>\n",
       "      <td>00:00:00</td>\n",
       "      <td>Sunday</td>\n",
       "    </tr>\n",
       "    <tr>\n",
       "      <th>4</th>\n",
       "      <td>2014-06-01 00:07:00</td>\n",
       "      <td>40.6880</td>\n",
       "      <td>-74.1831</td>\n",
       "      <td>B02512</td>\n",
       "      <td>2014-06-01</td>\n",
       "      <td>2014-06-01</td>\n",
       "      <td>00:00:00</td>\n",
       "      <td>Sunday</td>\n",
       "    </tr>\n",
       "  </tbody>\n",
       "</table>\n",
       "</div>"
      ],
      "text/plain": [
       "            Date/Time      Lat      Lon    Base binned hour       date  \\\n",
       "0 2014-06-01 00:00:00  40.7293 -73.9920  B02512  2014-06-01 2014-06-01   \n",
       "1 2014-06-01 00:01:00  40.7131 -74.0097  B02512  2014-06-01 2014-06-01   \n",
       "2 2014-06-01 00:04:00  40.3461 -74.6610  B02512  2014-06-01 2014-06-01   \n",
       "3 2014-06-01 00:04:00  40.7555 -73.9833  B02512  2014-06-01 2014-06-01   \n",
       "4 2014-06-01 00:07:00  40.6880 -74.1831  B02512  2014-06-01 2014-06-01   \n",
       "\n",
       "       time Weekday  \n",
       "0  00:00:00  Sunday  \n",
       "1  00:00:00  Sunday  \n",
       "2  00:00:00  Sunday  \n",
       "3  00:00:00  Sunday  \n",
       "4  00:00:00  Sunday  "
      ]
     },
     "execution_count": 14,
     "metadata": {},
     "output_type": "execute_result"
    }
   ],
   "source": [
    "DayMap={\n",
    "    0:'Monday',\n",
    "    1:'Tuesday',\n",
    "    2:'Wednesday',\n",
    "    3:'Thursday',\n",
    "    4:'Friday',\n",
    "    5:'Saturday',\n",
    "    6:'Sunday'\n",
    "}\n",
    "df['date'] = pd.to_datetime(df['date'])\n",
    "df['Weekday'] = df['date'].dt.weekday.map(DayMap)\n",
    "df.head()"
   ]
  },
  {
   "cell_type": "markdown",
   "id": "f5d1df21",
   "metadata": {},
   "source": [
    "#### Q1. On what date did we see the most number of Uber pickups?\n",
    "Skill Test: Grouping & Counting"
   ]
  },
  {
   "cell_type": "code",
   "execution_count": 16,
   "id": "89db16f7",
   "metadata": {},
   "outputs": [
    {
     "data": {
      "text/plain": [
       "date\n",
       "2014-06-13    31207\n",
       "Name: binned hour, dtype: int64"
      ]
     },
     "execution_count": 16,
     "metadata": {},
     "output_type": "execute_result"
    }
   ],
   "source": [
    "df.groupby(df['date'])['binned hour'].count().sort_values(ascending = False ).head(1)"
   ]
  },
  {
   "cell_type": "markdown",
   "id": "65b11047",
   "metadata": {},
   "source": [
    "Ans : Highest number of pickups happened on 13-June-2014"
   ]
  },
  {
   "cell_type": "markdown",
   "id": "bb263ebf",
   "metadata": {},
   "source": [
    "#### Q.2 How many Uber pickups were made on the date with the highest number of pickups?\n",
    "Skill Test: Indexing and filtering"
   ]
  },
  {
   "cell_type": "code",
   "execution_count": 19,
   "id": "8be2920d",
   "metadata": {},
   "outputs": [
    {
     "data": {
      "text/plain": [
       "31207"
      ]
     },
     "execution_count": 19,
     "metadata": {},
     "output_type": "execute_result"
    }
   ],
   "source": [
    "df.groupby(df['date'])['binned hour'].count().sort_values(ascending = False)[0]"
   ]
  },
  {
   "cell_type": "markdown",
   "id": "dedbc4ba",
   "metadata": {},
   "source": [
    "Ans: Number of uber pickups happened on highest number of pickups is : 31207"
   ]
  },
  {
   "cell_type": "markdown",
   "id": "c5d6d887",
   "metadata": {},
   "source": [
    "#### Q.3 How many unique TLC base companies are affiliated with the Uber pickups in the dataset?\n",
    "Skill Test: Counting unique values"
   ]
  },
  {
   "cell_type": "code",
   "execution_count": 20,
   "id": "8007de0a",
   "metadata": {},
   "outputs": [
    {
     "data": {
      "text/plain": [
       "5"
      ]
     },
     "execution_count": 20,
     "metadata": {},
     "output_type": "execute_result"
    }
   ],
   "source": [
    "df['Base'].nunique()"
   ]
  },
  {
   "cell_type": "markdown",
   "id": "c6486948",
   "metadata": {},
   "source": [
    "Ans : 5 TLC base companies are affiliated with the Uber pickups"
   ]
  },
  {
   "cell_type": "markdown",
   "id": "2410d051",
   "metadata": {},
   "source": [
    "#### Q.4 Which TLC base company had the highest number of pickups?\n",
    "Skill Test: Grouping, counting, and finding the maximum"
   ]
  },
  {
   "cell_type": "code",
   "execution_count": 25,
   "id": "d3d88b0a",
   "metadata": {},
   "outputs": [
    {
     "data": {
      "text/plain": [
       "Base           B02764\n",
       "binned hour    242975\n",
       "dtype: object"
      ]
     },
     "execution_count": 25,
     "metadata": {},
     "output_type": "execute_result"
    }
   ],
   "source": [
    "df.groupby(df['Base'])['binned hour'].count().reset_index().max()"
   ]
  },
  {
   "cell_type": "markdown",
   "id": "e8bd2a10",
   "metadata": {},
   "source": [
    "Ans: B02764 had the highest number of pickups"
   ]
  },
  {
   "cell_type": "markdown",
   "id": "b08b6c6f",
   "metadata": {},
   "source": [
    "#### Q.5 How many Uber pickups were made at each unique TLC base company?\n",
    "Skill Test: Grouping and counting"
   ]
  },
  {
   "cell_type": "code",
   "execution_count": 31,
   "id": "307d3224",
   "metadata": {},
   "outputs": [
    {
     "data": {
      "text/html": [
       "<div>\n",
       "<style scoped>\n",
       "    .dataframe tbody tr th:only-of-type {\n",
       "        vertical-align: middle;\n",
       "    }\n",
       "\n",
       "    .dataframe tbody tr th {\n",
       "        vertical-align: top;\n",
       "    }\n",
       "\n",
       "    .dataframe thead th {\n",
       "        text-align: right;\n",
       "    }\n",
       "</style>\n",
       "<table border=\"1\" class=\"dataframe\">\n",
       "  <thead>\n",
       "    <tr style=\"text-align: right;\">\n",
       "      <th></th>\n",
       "      <th>Base</th>\n",
       "      <th>Count</th>\n",
       "    </tr>\n",
       "  </thead>\n",
       "  <tbody>\n",
       "    <tr>\n",
       "      <th>0</th>\n",
       "      <td>B02764</td>\n",
       "      <td>8974</td>\n",
       "    </tr>\n",
       "    <tr>\n",
       "      <th>1</th>\n",
       "      <td>B02512</td>\n",
       "      <td>32509</td>\n",
       "    </tr>\n",
       "    <tr>\n",
       "      <th>2</th>\n",
       "      <td>B02617</td>\n",
       "      <td>184460</td>\n",
       "    </tr>\n",
       "    <tr>\n",
       "      <th>3</th>\n",
       "      <td>B02682</td>\n",
       "      <td>194926</td>\n",
       "    </tr>\n",
       "    <tr>\n",
       "      <th>4</th>\n",
       "      <td>B02598</td>\n",
       "      <td>242975</td>\n",
       "    </tr>\n",
       "  </tbody>\n",
       "</table>\n",
       "</div>"
      ],
      "text/plain": [
       "     Base   Count\n",
       "0  B02764    8974\n",
       "1  B02512   32509\n",
       "2  B02617  184460\n",
       "3  B02682  194926\n",
       "4  B02598  242975"
      ]
     },
     "execution_count": 31,
     "metadata": {},
     "output_type": "execute_result"
    }
   ],
   "source": [
    "tlc_count = df.groupby(df['Base']).count()['binned hour'].sort_values(ascending = True).reset_index()\n",
    "tlc_count.rename(columns={'binned hour' : 'Count'},inplace=True)\n",
    "tlc_count"
   ]
  },
  {
   "cell_type": "markdown",
   "id": "ae663b94",
   "metadata": {},
   "source": [
    "#### Q.6 Can you determine the busiest time of day for Uber pickups based on the date/time column?\n",
    "Skill Test: Extracting time components, grouping, counting, and finding the maximum"
   ]
  },
  {
   "cell_type": "code",
   "execution_count": 40,
   "id": "b3814973",
   "metadata": {},
   "outputs": [
    {
     "data": {
      "text/plain": [
       "hour\n",
       "17    50452\n",
       "16    48162\n",
       "18    45013\n",
       "15    41586\n",
       "21    40791\n",
       "Name: binned hour, dtype: int64"
      ]
     },
     "execution_count": 40,
     "metadata": {},
     "output_type": "execute_result"
    }
   ],
   "source": [
    "df['hour'] = df['binned hour'].dt.hour\n",
    "df.groupby(df['hour']).count()['binned hour'].sort_values(ascending = False).head()"
   ]
  },
  {
   "cell_type": "markdown",
   "id": "cd0cf76a",
   "metadata": {},
   "source": [
    "Ans: The busiest time of day between 4pm and 5pm"
   ]
  },
  {
   "cell_type": "markdown",
   "id": "34d6c975",
   "metadata": {},
   "source": [
    "#### Q.7 Can you create a visualization (e.g., a bar chart or line plot) to represent the number of Uber pickups over time?\n",
    "Skill Test: Data Visualization using Plotting function"
   ]
  },
  {
   "cell_type": "code",
   "execution_count": 48,
   "id": "1e3a611c",
   "metadata": {},
   "outputs": [
    {
     "data": {
      "text/plain": [
       "Text(0, 0.5, 'NUMBER OF RIDES')"
      ]
     },
     "execution_count": 48,
     "metadata": {},
     "output_type": "execute_result"
    },
    {
     "data": {
      "image/png": "[encoded data removed]",
      "text/plain": [
       "<Figure size 1000x500 with 1 Axes>"
      ]
     },
     "metadata": {},
     "output_type": "display_data"
    }
   ],
   "source": [
    "plt.figure(figsize=(10,5))\n",
    "df['date'].value_counts().sort_index().plot(kind='line',color='red')\n",
    "plt.title('Frequency of Rides in month of July')\n",
    "plt.xlabel('DATES')\n",
    "plt.ylabel('NUMBER OF RIDES')"
   ]
  },
  {
   "cell_type": "markdown",
   "id": "eadced29",
   "metadata": {},
   "source": [
    "#### Q8. Can you create a scatter plot to visualize the distribution of Uber pickups based on latitude and longitude?\n",
    "Skill Test: Scatter Plot"
   ]
  },
  {
   "cell_type": "code",
   "execution_count": 58,
   "id": "4d2656ab",
   "metadata": {},
   "outputs": [
    {
     "data": {
      "text/plain": [
       "<matplotlib.collections.PathCollection at 0x1dd2d7b6e50>"
      ]
     },
     "execution_count": 58,
     "metadata": {},
     "output_type": "execute_result"
    },
    {
     "data": {
      "image/png": "[encoded data removed]",
      "text/plain": [
       "<Figure size 640x480 with 1 Axes>"
      ]
     },
     "metadata": {},
     "output_type": "display_data"
    }
   ],
   "source": [
    "plt.scatter(x=df['Lat'],y=df['Lon'],color = 'red')"
   ]
  },
  {
   "cell_type": "markdown",
   "id": "17c7ecaa",
   "metadata": {},
   "source": [
    "#### Q9. Can you create a bar chart to compare the number of Uber pickups for each TLC base company?\n",
    "Skill Test: Bar Chart"
   ]
  },
  {
   "cell_type": "code",
   "execution_count": 62,
   "id": "6d035935",
   "metadata": {},
   "outputs": [
    {
     "data": {
      "text/plain": [
       "Text(0, 0.5, 'NUMBER OF UBER PICKUPS')"
      ]
     },
     "execution_count": 62,
     "metadata": {},
     "output_type": "execute_result"
    },
    {
     "data": {
      "image/png": "[encoded data removed]",
      "text/plain": [
       "<Figure size 640x480 with 1 Axes>"
      ]
     },
     "metadata": {},
     "output_type": "display_data"
    }
   ],
   "source": [
    "df.groupby(df['Base']).count()['binned hour'].plot(kind='bar',color='orange')\n",
    "plt.title(\"Number of Uber pickups for each TLC base company\")\n",
    "plt.ylabel(\"NUMBER OF UBER PICKUPS\")"
   ]
  },
  {
   "cell_type": "markdown",
   "id": "b6450c5b",
   "metadata": {},
   "source": [
    "#### Q10. Can you create a pie chart to display the percentage distribution of Uber pickups for each day of the week?\n",
    "Skill Test: Pie Chart"
   ]
  },
  {
   "cell_type": "code",
   "execution_count": 65,
   "id": "65297581",
   "metadata": {},
   "outputs": [
    {
     "data": {
      "text/html": [
       "<div>\n",
       "<style scoped>\n",
       "    .dataframe tbody tr th:only-of-type {\n",
       "        vertical-align: middle;\n",
       "    }\n",
       "\n",
       "    .dataframe tbody tr th {\n",
       "        vertical-align: top;\n",
       "    }\n",
       "\n",
       "    .dataframe thead th {\n",
       "        text-align: right;\n",
       "    }\n",
       "</style>\n",
       "<table border=\"1\" class=\"dataframe\">\n",
       "  <thead>\n",
       "    <tr style=\"text-align: right;\">\n",
       "      <th></th>\n",
       "      <th>Day</th>\n",
       "      <th>Count</th>\n",
       "    </tr>\n",
       "  </thead>\n",
       "  <tbody>\n",
       "    <tr>\n",
       "      <th>0</th>\n",
       "      <td>Thursday</td>\n",
       "      <td>115325</td>\n",
       "    </tr>\n",
       "    <tr>\n",
       "      <th>1</th>\n",
       "      <td>Friday</td>\n",
       "      <td>105056</td>\n",
       "    </tr>\n",
       "    <tr>\n",
       "      <th>2</th>\n",
       "      <td>Wednesday</td>\n",
       "      <td>99654</td>\n",
       "    </tr>\n",
       "    <tr>\n",
       "      <th>3</th>\n",
       "      <td>Monday</td>\n",
       "      <td>94655</td>\n",
       "    </tr>\n",
       "    <tr>\n",
       "      <th>4</th>\n",
       "      <td>Tuesday</td>\n",
       "      <td>88134</td>\n",
       "    </tr>\n",
       "    <tr>\n",
       "      <th>5</th>\n",
       "      <td>Saturday</td>\n",
       "      <td>81364</td>\n",
       "    </tr>\n",
       "    <tr>\n",
       "      <th>6</th>\n",
       "      <td>Sunday</td>\n",
       "      <td>79656</td>\n",
       "    </tr>\n",
       "  </tbody>\n",
       "</table>\n",
       "</div>"
      ],
      "text/plain": [
       "         Day   Count\n",
       "0   Thursday  115325\n",
       "1     Friday  105056\n",
       "2  Wednesday   99654\n",
       "3     Monday   94655\n",
       "4    Tuesday   88134\n",
       "5   Saturday   81364\n",
       "6     Sunday   79656"
      ]
     },
     "execution_count": 65,
     "metadata": {},
     "output_type": "execute_result"
    }
   ],
   "source": [
    "weekday_count = df.groupby(df['Weekday']).count()['binned hour'].sort_values(ascending = False).reset_index()\n",
    "weekday_count.rename(columns={'Weekday':'Day','binned hour':'Count'},inplace=True)\n",
    "weekday_count"
   ]
  },
  {
   "cell_type": "code",
   "execution_count": 68,
   "id": "55d74cc9",
   "metadata": {},
   "outputs": [
    {
     "data": {
      "image/png": "[encoded data removed]",
      "text/plain": [
       "<Figure size 640x480 with 1 Axes>"
      ]
     },
     "metadata": {},
     "output_type": "display_data"
    }
   ],
   "source": [
    "my_labels = weekday_count['Day']\n",
    "plt.pie(weekday_count['Count'].to_list(),labels=my_labels,autopct=\"%0.0f%%\")\n",
    "plt.show()"
   ]
  },
  {
   "cell_type": "code",
   "execution_count": null,
   "id": "b6e16595",
   "metadata": {},
   "outputs": [],
   "source": []
  }
 ],
 "metadata": {
  "kernelspec": {
   "display_name": "Python 3 (ipykernel)",
   "language": "python",
   "name": "python3"
  },
  "language_info": {
   "codemirror_mode": {
    "name": "ipython",
    "version": 3
   },
   "file_extension": ".py",
   "mimetype": "text/x-python",
   "name": "python",
   "nbconvert_exporter": "python",
   "pygments_lexer": "ipython3",
   "version": "3.11.2"
  }
 },
 "nbformat": 4,
 "nbformat_minor": 5
}
